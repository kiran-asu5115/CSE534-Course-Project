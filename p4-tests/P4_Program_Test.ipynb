{
 "cells": [
  {
   "cell_type": "code",
   "execution_count": 6,
   "id": "27389f3b-a565-4bf4-945e-9280b5931bc7",
   "metadata": {},
   "outputs": [],
   "source": [
    "from fabrictestbed_extensions.fablib.fablib import FablibManager as fablib_manager\n",
    "import json\n",
    "import os"
   ]
  },
  {
   "cell_type": "code",
   "execution_count": 7,
   "id": "66f54b1c-aede-4a76-b10a-7cc11afb3bbe",
   "metadata": {},
   "outputs": [],
   "source": [
    "def get_slice_by_name_or_id(slice_name=None, slice_id=None):\n",
    "    if slice_name is None and slice_id is None:\n",
    "        slice = None\n",
    "    elif slice_name is not None:\n",
    "        slice = fablib.get_slice(name=slice_name)\n",
    "    else:\n",
    "        slice = fablib.get_slice(slice_id=slice_id)\n",
    "    return slice"
   ]
  },
  {
   "cell_type": "code",
   "execution_count": 8,
   "id": "ea8ecad1-fce1-4e1a-a6b0-2e9d9d2c88f5",
   "metadata": {},
   "outputs": [],
   "source": [
    "def get_node_by_name(slice, node_name):\n",
    "    nodes = p4_slice.get_nodes()\n",
    "    switch_node = None\n",
    "    for node in nodes:\n",
    "        switch_node = node if node.get_name() == switch_node_name else switch_node\n",
    "\n",
    "    # print(vars(switch_node))\n",
    "    return switch_node"
   ]
  },
  {
   "cell_type": "code",
   "execution_count": 9,
   "id": "884b12c7-0d35-454c-bca0-4a6096f52f39",
   "metadata": {},
   "outputs": [],
   "source": [
    "def upload_p4_program_file(switch_node, src_file_name, dst_file_name):\n",
    "    p4_programs_directory = \"P4 Programs\"\n",
    "    src_file_path = os.path.join(os.getcwd(), p4_programs_directory, src_file_name)\n",
    "    switch_node.upload_file(src_file_path, dst_file_name)\n",
    "\n",
    "def upload_p4_config_file(switch_node, src_file_name, dst_file_name):\n",
    "    p4_config_directory = \"Switch Configuration\"\n",
    "    src_file_path = os.path.join(os.getcwd(), p4_config_directory, src_file_name)\n",
    "    switch_node.upload_file(src_file_path, dst_file_name)    "
   ]
  },
  {
   "cell_type": "code",
   "execution_count": 10,
   "id": "7d92b503-b61e-4a3f-980a-994910e5cff8",
   "metadata": {},
   "outputs": [],
   "source": [
    "fablib = fablib_manager()\n",
    "slice_name = \"Kiran_P4_Test_2\"\n",
    "p4_slice = get_slice_by_name_or_id(slice_name, slice_id=None)\n",
    "\n",
    "switch_node_name = \"s1\"\n",
    "switch_node = get_node_by_name(p4_slice, node_name=switch_node_name)\n",
    "\n",
    "prog_file_name = \"p4_basic_routing_1.p4\"\n",
    "config_file_name = \"p4_switch_config.sh\"\n",
    "\n",
    "# upload_p4_program_file(switch_node, prog_file_name, prog_file_name)\n",
    "upload_p4_config_file(switch_node, config_file_name, config_file_name)"
   ]
  }
 ],
 "metadata": {
  "kernelspec": {
   "display_name": "Python 3 (ipykernel)",
   "language": "python",
   "name": "python3"
  },
  "language_info": {
   "codemirror_mode": {
    "name": "ipython",
    "version": 3
   },
   "file_extension": ".py",
   "mimetype": "text/x-python",
   "name": "python",
   "nbconvert_exporter": "python",
   "pygments_lexer": "ipython3",
   "version": "3.9.7"
  }
 },
 "nbformat": 4,
 "nbformat_minor": 5
}
