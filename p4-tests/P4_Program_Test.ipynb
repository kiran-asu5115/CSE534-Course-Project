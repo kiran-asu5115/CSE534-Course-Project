{
 "cells": [
  {
   "cell_type": "code",
   "execution_count": 5,
   "id": "27389f3b-a565-4bf4-945e-9280b5931bc7",
   "metadata": {},
   "outputs": [],
   "source": [
    "from fabrictestbed_extensions.fablib.fablib import FablibManager as fablib_manager\n",
    "import json"
   ]
  },
  {
   "cell_type": "code",
   "execution_count": 6,
   "id": "66f54b1c-aede-4a76-b10a-7cc11afb3bbe",
   "metadata": {},
   "outputs": [],
   "source": [
    "def get_slice_by_name_or_id(slice_name=None, slice_id=None):\n",
    "    if slice_name is None and slice_id is None:\n",
    "        slice = None\n",
    "    elif slice_name is not None:\n",
    "        slice = fablib.get_slice(name=slice_name)\n",
    "    else:\n",
    "        slice = fablib.get_slice(slice_id=slice_id)\n",
    "    return slice"
   ]
  },
  {
   "cell_type": "code",
   "execution_count": 7,
   "id": "ea8ecad1-fce1-4e1a-a6b0-2e9d9d2c88f5",
   "metadata": {},
   "outputs": [],
   "source": [
    "def get_node_by_name(slice, node_name):\n",
    "    nodes = p4_slice.get_nodes()\n",
    "    switch_node = None\n",
    "    for node in nodes:\n",
    "        switch_node = node if node.get_name() == switch_node_name else switch_node\n",
    "\n",
    "    # print(vars(switch_node))\n",
    "    return switch_node"
   ]
  },
  {
   "cell_type": "code",
   "execution_count": 10,
   "id": "7d92b503-b61e-4a3f-980a-994910e5cff8",
   "metadata": {},
   "outputs": [
    {
     "name": "stdout",
     "output_type": "stream",
     "text": [
      "{'fim_node': {'capacities': '{ core: 2 , ram: 4 G, disk: 20 G}', 'capacity_allocations': '{ core: 2 , ram: 4 G, disk: 100 G}', 'capacity_hints': '{ instance_type: fabric.c2.m4.d100}', 'image_ref': 'default_ubuntu_20', 'image_type': 'qcow2', 'label_allocations': '{ instance: instance-00001b06, instance_parent: tacc-w5.fabric-testbed.net}', 'management_ip': '129.114.110.100', 'name': 's1', 'node_map': \"('508c3fa3-df17-41ab-bb95-fdf71c105a61', '8QPBZC3')\", 'reservation_info': '{\"error_message\": \"\", \"reservation_id\": \"9bc4676f-418c-4208-b247-f763eb432fef\", \"reservation_state\": \"Active\"}', 'site': 'TACC', 'type': 'VM'}, 'slice': <fabrictestbed_extensions.fablib.slice.Slice object at 0x7fb02079fe50>, 'host': None, 'ip_addr_list_json': None, 'username': 'ubuntu', 'sliver': {'graph_node_id': '8b0b7834-76da-4f67-87a7-68c52cb9cb96',\n",
      " 'join_state': 'NoJoin',\n",
      " 'lease_end_time': '2022-11-16 03:31:08 +0000',\n",
      " 'lease_start_time': '2022-11-09 01:42:51 +0000',\n",
      " 'notice': 'Reservation 9bc4676f-418c-4208-b247-f763eb432fef (Slice '\n",
      "           'Kiran_P4_Test_1(25bb9a94-5e6b-4321-8666-1ad034035a7a) Graph '\n",
      "           'Id:5123ca93-8791-4d99-a01f-565808695d35 Owner:ksthanus@asu.edu) is '\n",
      "           'in state (Active,None_) ',\n",
      " 'pending_state': 'None_',\n",
      " 'slice_id': '25bb9a94-5e6b-4321-8666-1ad034035a7a',\n",
      " 'sliver': '{\"Name\": \"s1\", \"Type\": \"VM\", \"Capacities\": \"{\\\\\"core\\\\\": 2, '\n",
      "           '\\\\\"disk\\\\\": 20, \\\\\"ram\\\\\": 4}\", \"CapacityHints\": '\n",
      "           '\"{\\\\\"instance_type\\\\\": \\\\\"fabric.c2.m4.d100\\\\\"}\", '\n",
      "           '\"CapacityAllocations\": \"{\\\\\"core\\\\\": 2, \\\\\"disk\\\\\": 100, '\n",
      "           '\\\\\"ram\\\\\": 4}\", \"LabelAllocations\": \"{\\\\\"instance\\\\\": '\n",
      "           '\\\\\"instance-00001b06\\\\\", \\\\\"instance_parent\\\\\": '\n",
      "           '\\\\\"tacc-w5.fabric-testbed.net\\\\\"}\", \"ReservationInfo\": '\n",
      "           '\"{\\\\\"error_message\\\\\": \\\\\"\\\\\", \\\\\"reservation_id\\\\\": '\n",
      "           '\\\\\"9bc4676f-418c-4208-b247-f763eb432fef\\\\\", '\n",
      "           '\\\\\"reservation_state\\\\\": \\\\\"Active\\\\\"}\", \"NodeMap\": '\n",
      "           '\"[\\\\\"508c3fa3-df17-41ab-bb95-fdf71c105a61\\\\\", \\\\\"8QPBZC3\\\\\"]\", '\n",
      "           '\"StitchNode\": \"false\", \"ImageRef\": \"default_ubuntu_20,qcow2\", '\n",
      "           '\"MgmtIp\": \"129.114.110.100\", \"Site\": \"TACC\", \"components\": '\n",
      "           '[{\"Name\": \"s1-switch_nic_1_conn1\", \"Type\": \"SharedNIC\", \"Model\": '\n",
      "           '\"ConnectX-6\", \"CapacityAllocations\": \"{\\\\\"unit\\\\\": 1}\", '\n",
      "           '\"LabelAllocations\": \"{\\\\\"bdf\\\\\": \\\\\"0000:e2:09.6\\\\\"}\", \"Details\": '\n",
      "           '\"Mellanox ConnectX-6 VPI MCX653 dual port 100Gbps\", \"NodeMap\": '\n",
      "           '\"[\\\\\"508c3fa3-df17-41ab-bb95-fdf71c105a61\\\\\", '\n",
      "           '\\\\\"8QPBZC3-slot7\\\\\"]\", \"StitchNode\": \"false\", \"network_services\": '\n",
      "           '[{\"Name\": \"s1-s1-switch_nic_1_conn1-l2ovs\", \"Type\": \"OVS\", '\n",
      "           '\"StitchNode\": \"false\", \"Layer\": \"L2\", \"Site\": \"TACC\", \"Gateway\": '\n",
      "           'null, \"interfaces\": [{\"Name\": \"s1-switch_nic_1_conn1-p1\", \"Type\": '\n",
      "           '\"SharedPort\", \"Capacities\": \"{\\\\\"unit\\\\\": 1}\", \"Labels\": '\n",
      "           '\"{\\\\\"local_name\\\\\": \\\\\"p1\\\\\"}\", \"LabelAllocations\": \"{\\\\\"bdf\\\\\": '\n",
      "           '\\\\\"0000:e2:09.6\\\\\", \\\\\"local_name\\\\\": \\\\\"p1\\\\\", \\\\\"mac\\\\\": '\n",
      "           '\\\\\"0A:86:38:21:58:8B\\\\\", \\\\\"vlan\\\\\": \\\\\"2076\\\\\"}\", \"StitchNode\": '\n",
      "           '\"false\"}]}]}, {\"Name\": \"s1-switch_nic_1_local\", \"Type\": '\n",
      "           '\"SharedNIC\", \"Model\": \"ConnectX-6\", \"CapacityAllocations\": '\n",
      "           '\"{\\\\\"unit\\\\\": 1}\", \"LabelAllocations\": \"{\\\\\"bdf\\\\\": '\n",
      "           '\\\\\"0000:e2:09.5\\\\\"}\", \"Details\": \"Mellanox ConnectX-6 VPI MCX653 '\n",
      "           'dual port 100Gbps\", \"NodeMap\": '\n",
      "           '\"[\\\\\"508c3fa3-df17-41ab-bb95-fdf71c105a61\\\\\", '\n",
      "           '\\\\\"8QPBZC3-slot7\\\\\"]\", \"StitchNode\": \"false\", \"network_services\": '\n",
      "           '[{\"Name\": \"s1-s1-switch_nic_1_local-l2ovs\", \"Type\": \"OVS\", '\n",
      "           '\"StitchNode\": \"false\", \"Layer\": \"L2\", \"Site\": \"TACC\", \"Gateway\": '\n",
      "           'null, \"interfaces\": [{\"Name\": \"s1-switch_nic_1_local-p1\", \"Type\": '\n",
      "           '\"SharedPort\", \"Capacities\": \"{\\\\\"unit\\\\\": 1}\", \"Labels\": '\n",
      "           '\"{\\\\\"local_name\\\\\": \\\\\"p1\\\\\"}\", \"LabelAllocations\": \"{\\\\\"bdf\\\\\": '\n",
      "           '\\\\\"0000:e2:09.5\\\\\", \\\\\"local_name\\\\\": \\\\\"p1\\\\\", \\\\\"mac\\\\\": '\n",
      "           '\\\\\"0E:2C:FE:77:F2:B6\\\\\", \\\\\"vlan\\\\\": \\\\\"2075\\\\\"}\", \"StitchNode\": '\n",
      "           '\"false\"}]}]}, {\"Name\": \"s1-switch_nic_1_conn2\", \"Type\": '\n",
      "           '\"SharedNIC\", \"Model\": \"ConnectX-6\", \"CapacityAllocations\": '\n",
      "           '\"{\\\\\"unit\\\\\": 1}\", \"LabelAllocations\": \"{\\\\\"bdf\\\\\": '\n",
      "           '\\\\\"0000:e2:0b.0\\\\\"}\", \"Details\": \"Mellanox ConnectX-6 VPI MCX653 '\n",
      "           'dual port 100Gbps\", \"NodeMap\": '\n",
      "           '\"[\\\\\"508c3fa3-df17-41ab-bb95-fdf71c105a61\\\\\", '\n",
      "           '\\\\\"8QPBZC3-slot7\\\\\"]\", \"StitchNode\": \"false\", \"network_services\": '\n",
      "           '[{\"Name\": \"s1-s1-switch_nic_1_conn2-l2ovs\", \"Type\": \"OVS\", '\n",
      "           '\"StitchNode\": \"false\", \"Layer\": \"L2\", \"Site\": \"TACC\", \"Gateway\": '\n",
      "           'null, \"interfaces\": [{\"Name\": \"s1-switch_nic_1_conn2-p1\", \"Type\": '\n",
      "           '\"SharedPort\", \"Capacities\": \"{\\\\\"unit\\\\\": 1}\", \"Labels\": '\n",
      "           '\"{\\\\\"local_name\\\\\": \\\\\"p1\\\\\"}\", \"LabelAllocations\": \"{\\\\\"bdf\\\\\": '\n",
      "           '\\\\\"0000:e2:0b.0\\\\\", \\\\\"local_name\\\\\": \\\\\"p1\\\\\", \\\\\"mac\\\\\": '\n",
      "           '\\\\\"0E:36:15:CF:9C:15\\\\\", \\\\\"vlan\\\\\": \\\\\"2086\\\\\"}\", \"StitchNode\": '\n",
      "           '\"false\"}]}]}]}',\n",
      " 'sliver_id': '9bc4676f-418c-4208-b247-f763eb432fef',\n",
      " 'sliver_type': 'NodeSliver',\n",
      " 'state': 'Active'}}\n"
     ]
    },
    {
     "data": {
      "text/plain": [
       "<SFTPAttributes: [ size=2726 uid=1000 gid=1000 mode=0o100664 atime=1667968324 mtime=1667968325 ]>"
      ]
     },
     "execution_count": 10,
     "metadata": {},
     "output_type": "execute_result"
    }
   ],
   "source": [
    "fablib = fablib_manager()\n",
    "slice_name = \"Kiran_P4_Test_1\"\n",
    "p4_slice = get_slice_by_name_or_id(slice_name, slice_id=None)\n",
    "\n",
    "switch_node_name = \"s1\"\n",
    "switch_node = get_node_by_name(p4_slice, node_name=switch_node_name)\n",
    "\n",
    "local_file_name = \"p4_test.p4\"\n",
    "node_file_name = \"p4_basic_routing.p4\"\n",
    "switch_node.upload_file(local_file_name, node_file_name)"
   ]
  },
  {
   "cell_type": "code",
   "execution_count": null,
   "id": "843c513b-8e48-4b4f-8516-0a259d837698",
   "metadata": {},
   "outputs": [],
   "source": []
  }
 ],
 "metadata": {
  "kernelspec": {
   "display_name": "Python 3 (ipykernel)",
   "language": "python",
   "name": "python3"
  },
  "language_info": {
   "codemirror_mode": {
    "name": "ipython",
    "version": 3
   },
   "file_extension": ".py",
   "mimetype": "text/x-python",
   "name": "python",
   "nbconvert_exporter": "python",
   "pygments_lexer": "ipython3",
   "version": "3.9.7"
  }
 },
 "nbformat": 4,
 "nbformat_minor": 5
}
