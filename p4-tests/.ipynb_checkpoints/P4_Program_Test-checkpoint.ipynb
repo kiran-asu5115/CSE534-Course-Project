{
 "cells": [
  {
   "cell_type": "code",
   "execution_count": null,
   "id": "27389f3b-a565-4bf4-945e-9280b5931bc7",
   "metadata": {},
   "outputs": [],
   "source": [
    "from fabrictestbed_extensions.fablib.fablib import FablibManager as fablib_manager\n",
    "import json"
   ]
  },
  {
   "cell_type": "code",
   "execution_count": null,
   "id": "66f54b1c-aede-4a76-b10a-7cc11afb3bbe",
   "metadata": {},
   "outputs": [],
   "source": [
    "def get_slice_by_name_or_id(slice_name=None, slice_id=None):\n",
    "    if slice_name is None and slice_id is None:\n",
    "        slice = None\n",
    "    elif slice_name is not None:\n",
    "        slice = fablib.get_slice(name=slice_name)\n",
    "    else:\n",
    "        slice = fablib.get_slice(slice_id=slice_id)\n",
    "    return slice"
   ]
  },
  {
   "cell_type": "code",
   "execution_count": null,
   "id": "7d92b503-b61e-4a3f-980a-994910e5cff8",
   "metadata": {},
   "outputs": [],
   "source": [
    "fablib = fablib_manager()\n",
    "slice_name = \"Kiran_P4_Test_1\"\n",
    "switch_node_name = \"s1\"\n",
    "\n",
    "slice = get_slice_by_name_or_id(slice_name, slice_id=None)\n",
    "nodes = slice.get_nodes()"
   ]
  }
 ],
 "metadata": {
  "kernelspec": {
   "display_name": "Python 3 (ipykernel)",
   "language": "python",
   "name": "python3"
  },
  "language_info": {
   "codemirror_mode": {
    "name": "ipython",
    "version": 3
   },
   "file_extension": ".py",
   "mimetype": "text/x-python",
   "name": "python",
   "nbconvert_exporter": "python",
   "pygments_lexer": "ipython3",
   "version": "3.9.7"
  }
 },
 "nbformat": 4,
 "nbformat_minor": 5
}
