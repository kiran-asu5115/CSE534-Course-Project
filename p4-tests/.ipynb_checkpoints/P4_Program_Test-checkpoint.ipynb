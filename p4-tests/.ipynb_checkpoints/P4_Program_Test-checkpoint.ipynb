{
 "cells": [
  {
   "cell_type": "code",
   "execution_count": 1,
   "id": "27389f3b-a565-4bf4-945e-9280b5931bc7",
   "metadata": {},
   "outputs": [],
   "source": [
    "from fabrictestbed_extensions.fablib.fablib import FablibManager as fablib_manager\n",
    "import json\n",
    "import os"
   ]
  },
  {
   "cell_type": "code",
   "execution_count": 2,
   "id": "66f54b1c-aede-4a76-b10a-7cc11afb3bbe",
   "metadata": {},
   "outputs": [],
   "source": [
    "def get_slice_by_name_or_id(slice_name=None, slice_id=None):\n",
    "    if slice_name is None and slice_id is None:\n",
    "        slice = None\n",
    "    elif slice_name is not None:\n",
    "        slice = fablib.get_slice(name=slice_name)\n",
    "    else:\n",
    "        slice = fablib.get_slice(slice_id=slice_id)\n",
    "    return slice"
   ]
  },
  {
   "cell_type": "code",
   "execution_count": 3,
   "id": "ea8ecad1-fce1-4e1a-a6b0-2e9d9d2c88f5",
   "metadata": {},
   "outputs": [],
   "source": [
    "def get_node_by_name(slice, node_name):\n",
    "    nodes = p4_slice.get_nodes()\n",
    "    switch_node = None\n",
    "    for node in nodes:\n",
    "        switch_node = node if node.get_name() == switch_node_name else switch_node\n",
    "\n",
    "    # print(vars(switch_node))\n",
    "    return switch_node"
   ]
  },
  {
   "cell_type": "code",
   "execution_count": 4,
   "id": "7d92b503-b61e-4a3f-980a-994910e5cff8",
   "metadata": {},
   "outputs": [
    {
     "data": {
      "text/plain": [
       "<SFTPAttributes: [ size=3060 uid=1000 gid=1000 mode=0o100664 atime=1668028818 mtime=1668028818 ]>"
      ]
     },
     "execution_count": 4,
     "metadata": {},
     "output_type": "execute_result"
    }
   ],
   "source": [
    "fablib = fablib_manager()\n",
    "slice_name = \"Kiran_P4_Test_1\"\n",
    "p4_slice = get_slice_by_name_or_id(slice_name, slice_id=None)\n",
    "\n",
    "switch_node_name = \"s1\"\n",
    "switch_node = get_node_by_name(p4_slice, node_name=switch_node_name)\n",
    "\n",
    "p4_programs_directory = \"P4 Programs\"\n",
    "prog_file_name = \"p4_basic_routing_2.p4\"\n",
    "node_file_name = prog_file_name\n",
    "prog_file_path = os.path.join(os.getcwd(), p4_programs_directory, prog_file_name)\n",
    "switch_node.upload_file(prog_file_path, node_file_name)"
   ]
  },
  {
   "cell_type": "code",
   "execution_count": null,
   "id": "843c513b-8e48-4b4f-8516-0a259d837698",
   "metadata": {},
   "outputs": [],
   "source": []
  }
 ],
 "metadata": {
  "kernelspec": {
   "display_name": "Python 3 (ipykernel)",
   "language": "python",
   "name": "python3"
  },
  "language_info": {
   "codemirror_mode": {
    "name": "ipython",
    "version": 3
   },
   "file_extension": ".py",
   "mimetype": "text/x-python",
   "name": "python",
   "nbconvert_exporter": "python",
   "pygments_lexer": "ipython3",
   "version": "3.9.7"
  }
 },
 "nbformat": 4,
 "nbformat_minor": 5
}
