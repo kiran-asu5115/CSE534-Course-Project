{
 "cells": [
  {
   "cell_type": "code",
   "execution_count": 1,
   "id": "89d5bb88-e253-4b48-a562-db5b15d1b529",
   "metadata": {},
   "outputs": [],
   "source": [
    "from fabrictestbed_extensions.fablib.fablib import FablibManager as fablib_manager\n",
    "from ipaddress import ip_address, IPv4Address, IPv6Address, IPv4Network, IPv6Network\n",
    "import json"
   ]
  },
  {
   "cell_type": "code",
   "execution_count": 2,
   "id": "f9b01bd2-fa96-4e26-bff8-80fa72205afe",
   "metadata": {},
   "outputs": [],
   "source": [
    "def configure_ipv4_subnet(address_list):\n",
    "    try:\n",
    "        subnet = IPv4Network(address_list)\n",
    "        available_ips = list(subnet)[1:]\n",
    "    except Exception as e:\n",
    "        print(f\"Exception: {e}\")\n",
    "    return subnet, available_ips"
   ]
  },
  {
   "cell_type": "code",
   "execution_count": 3,
   "id": "10de8deb-a0d6-4de3-86b5-c8e48910e832",
   "metadata": {},
   "outputs": [],
   "source": [
    "def get_slice_by_name_or_id(slice_name=None, slice_id=None):\n",
    "    if slice_name is None and slice_id is None:\n",
    "        slice = None\n",
    "    elif slice_name is not None:\n",
    "        slice = fablib.get_slice(name=slice_name)\n",
    "    else:\n",
    "        slice = fablib.get_slice(slice_id=slice_id)\n",
    "    return slice"
   ]
  },
  {
   "cell_type": "code",
   "execution_count": 4,
   "id": "c026ec39-17d3-466e-9d23-f30b3d8fcbf0",
   "metadata": {},
   "outputs": [],
   "source": [
    "def get_slice_ssh_commands(fablib, slice_name=None, slice_id=None):\n",
    "    slice = get_slice_by_name_or_id(slice_name, slice_id)\n",
    "    nodes = slice.get_nodes()\n",
    "    node_hostnames, node_ssh_commands = [], []\n",
    "    ssh_command_prefix = \"ssh -i /home/fabric/work/fabric_config/slice_key -F /home/fabric/work/fabric_config/ssh_config \"\n",
    "    for node in nodes:\n",
    "        try:\n",
    "            node_username, node_management_ip = str(node.get_username()), str(node.get_management_ip())\n",
    "            node_hostnames.append(node_username + \"@\" + node_management_ip)\n",
    "            node_ssh_commands.append(ssh_command_prefix + node_hostnames[-1])\n",
    "            print(\"Node {}:\".format(len(node_hostnames)), node.get_name())\n",
    "            print(\"Node Hostname:\", node_hostnames[-1])\n",
    "            print(\"SSH Access Command:\", node_ssh_commands[-1])\n",
    "            print()\n",
    "        except Exception as e:\n",
    "            print(\"Exception in Parsing Node Details:\", node, e)\n",
    "\n",
    "    # print(\"Node Host Names:\", node_hostnames)\n",
    "    # print(\"Node SSH Commands:\", node_ssh_commands)"
   ]
  },
  {
   "cell_type": "code",
   "execution_count": 5,
   "id": "aa86c355-6d10-4e5c-b796-2b88c44967dc",
   "metadata": {},
   "outputs": [],
   "source": [
    "def get_slice_components(fablib, slice_name=None, slice_id=None):\n",
    "    slice = get_slice_by_name_or_id(slice_name, slice_id)\n",
    "    nodes = slice.get_nodes()\n",
    "    for node in nodes:\n",
    "        components = node.get_components()\n",
    "        print(vars(components[0]))\n",
    "    \n",
    "    \n",
    "def get_slice_interfaces(fablib, slice_name=None, slice_id=None):\n",
    "    slice = get_slice_by_name_or_id(slice_name, slice_id)\n",
    "    nodes = slice.get_nodes()\n",
    "    interfaces = slice.get_interfaces()\n",
    "    for interface in interfaces:\n",
    "        interface_vals = vars(interface)\n",
    "        print(interface_vals[\"network\"])"
   ]
  },
  {
   "cell_type": "code",
   "execution_count": 6,
   "id": "fe5771c3-7276-4c32-96ef-6988bc503ffc",
   "metadata": {},
   "outputs": [],
   "source": [
    "def configure_node_interface(node, network_name, subnet, available_ips):\n",
    "    node_interface = node.get_interface(network_name=network_name)\n",
    "    print(\"Node Interface:\", node_interface)\n",
    "    node_address = available_ips.pop(0)\n",
    "    print(\"Node Address:\", node_address, \"for Node:\", node.get_name())\n",
    "    node_interface.ip_addr_add(addr=node_address, subnet=subnet)\n",
    "    return node_address\n",
    "\n",
    "def unconfigure_node_interface(node, network_name, subnet, ip_address):\n",
    "    node_interface = node.get_interface(network_name=network_name)\n",
    "    print(\"Node Interface:\", node_interface)\n",
    "    node_interface.ip_addr_del(addr=ip_address, subnet=subnet)\n",
    "    print(\"Deleted IP Address:\", ip_address, \"for Node:\", node.get_name())"
   ]
  },
  {
   "cell_type": "code",
   "execution_count": 8,
   "id": "a026d1a1-87cc-4a60-abf3-de88936b78cc",
   "metadata": {},
   "outputs": [
    {
     "name": "stdout",
     "output_type": "stream",
     "text": [
      "Node 1: h1\n",
      "Node Hostname: ubuntu@129.114.110.87\n",
      "SSH Access Command: ssh -i /home/fabric/work/fabric_config/slice_key -F /home/fabric/work/fabric_config/ssh_config ubuntu@129.114.110.87\n",
      "\n",
      "Node 2: s1\n",
      "Node Hostname: ubuntu@129.114.110.125\n",
      "SSH Access Command: ssh -i /home/fabric/work/fabric_config/slice_key -F /home/fabric/work/fabric_config/ssh_config ubuntu@129.114.110.125\n",
      "\n",
      "Node 3: h2\n",
      "Node Hostname: ubuntu@129.114.110.103\n",
      "SSH Access Command: ssh -i /home/fabric/work/fabric_config/slice_key -F /home/fabric/work/fabric_config/ssh_config ubuntu@129.114.110.103\n",
      "\n",
      "Node 4: h3\n",
      "Node Hostname: ubuntu@129.114.110.83\n",
      "SSH Access Command: ssh -i /home/fabric/work/fabric_config/slice_key -F /home/fabric/work/fabric_config/ssh_config ubuntu@129.114.110.83\n",
      "\n",
      "Node 5: _meas_node\n",
      "Node Hostname: ubuntu@129.114.110.75\n",
      "SSH Access Command: ssh -i /home/fabric/work/fabric_config/slice_key -F /home/fabric/work/fabric_config/ssh_config ubuntu@129.114.110.75\n",
      "\n"
     ]
    }
   ],
   "source": [
    "fablib = fablib_manager()\n",
    "slice_name = \"Kiran_Integrated_Test_1\"\n",
    "get_slice_ssh_commands(fablib, slice_name=slice_name)\n",
    "# get_slice_components(fablib, slice_name=slice_name) \n",
    "# get_slice_interfaces(fablib, slice_name=slice_name)"
   ]
  },
  {
   "cell_type": "code",
   "execution_count": 10,
   "id": "28b67ecb-8655-4bdf-a290-6e486bc0bd5e",
   "metadata": {},
   "outputs": [
    {
     "name": "stdout",
     "output_type": "stream",
     "text": [
      "Node Interface: ---------------------  --------------------------\n",
      "Name                   s1-switch_nic_1_conn_h1-p1\n",
      "Network                C1\n",
      "Bandwidth              0\n",
      "VLAN\n",
      "MAC                    3A:8A:C8:9F:8D:57\n",
      "Physical OS Interface  ens10\n",
      "OS Interface           ens10\n",
      "---------------------  --------------------------\n",
      "Node Address: 192.168.1.1 for Node: s1\n",
      "Node Interface: ---------------------  -----------------\n",
      "Name                   h1-host_nic_1-p1\n",
      "Network                C1\n",
      "Bandwidth              0\n",
      "VLAN\n",
      "MAC                    32:A2:E4:8E:94:EA\n",
      "Physical OS Interface  ens8\n",
      "OS Interface           ens8\n",
      "---------------------  -----------------\n",
      "Node Address: 192.168.1.2 for Node: h1\n",
      "Node Interface: ---------------------  --------------------------\n",
      "Name                   s1-switch_nic_1_conn_h2-p1\n",
      "Network                C2\n",
      "Bandwidth              0\n",
      "VLAN\n",
      "MAC                    32:D1:AA:31:AD:08\n",
      "Physical OS Interface  ens7\n",
      "OS Interface           ens7\n",
      "---------------------  --------------------------\n",
      "Node Address: 192.168.2.1 for Node: s1\n",
      "Node Interface: ---------------------  -----------------\n",
      "Name                   h2-host_nic_2-p1\n",
      "Network                C2\n",
      "Bandwidth              0\n",
      "VLAN\n",
      "MAC                    3E:E2:9E:42:44:39\n",
      "Physical OS Interface  ens8\n",
      "OS Interface           ens8\n",
      "---------------------  -----------------\n",
      "Node Address: 192.168.2.2 for Node: h2\n",
      "Node Interface: ---------------------  --------------------------\n",
      "Name                   s1-switch_nic_1_conn_h3-p1\n",
      "Network                C3\n",
      "Bandwidth              0\n",
      "VLAN\n",
      "MAC                    36:C3:C9:9A:F6:6F\n",
      "Physical OS Interface  ens8\n",
      "OS Interface           ens8\n",
      "---------------------  --------------------------\n",
      "Node Address: 192.168.3.1 for Node: s1\n",
      "Node Interface: ---------------------  -----------------\n",
      "Name                   h3-host_nic_3-p1\n",
      "Network                C3\n",
      "Bandwidth              0\n",
      "VLAN\n",
      "MAC                    42:29:E0:A8:A3:10\n",
      "Physical OS Interface  ens7\n",
      "OS Interface           ens7\n",
      "---------------------  -----------------\n",
      "Node Address: 192.168.3.2 for Node: h3\n"
     ]
    }
   ],
   "source": [
    "slice = get_slice_by_name_or_id(slice_name, slice_id=None)\n",
    "nodes = slice.get_nodes()\n",
    "h1, s1, h2, h3, _ = nodes\n",
    "\n",
    "net1 = \"C1\"\n",
    "address_list = \"192.168.1.0/24\"\n",
    "subnet, available_ips = configure_ipv4_subnet(address_list=address_list)\n",
    "s1_i1_address = configure_node_interface(s1, net1, subnet, available_ips)\n",
    "h1_address = configure_node_interface(h1, net1, subnet, available_ips)\n",
    "\n",
    "net2 = \"C2\"\n",
    "address_list = \"192.168.2.0/24\"\n",
    "subnet, available_ips = configure_ipv4_subnet(address_list=address_list)\n",
    "s1_i2_address = configure_node_interface(s1, net2, subnet, available_ips)\n",
    "h2_address = configure_node_interface(h2, net2, subnet, available_ips)\n",
    "\n",
    "net3 = \"C3\"\n",
    "address_list = \"192.168.3.0/24\"\n",
    "subnet, available_ips = configure_ipv4_subnet(address_list=address_list)\n",
    "s1_i3_address = configure_node_interface(s1, net3, subnet, available_ips)\n",
    "h3_address = configure_node_interface(h3, net3, subnet, available_ips)"
   ]
  },
  {
   "cell_type": "code",
   "execution_count": null,
   "id": "ec20999a-dea4-4848-a58e-7a571ddb5f38",
   "metadata": {},
   "outputs": [],
   "source": [
    "unconfigure_node_interface(h1, net1, subnet, h1_address)\n",
    "unconfigure_node_interface(h2, net2, subnet, h2_address)\n",
    "unconfigure_node_interface(h3, net3, subnet, h3_address)\n",
    "unconfigure_node_interface(s1, net1, subnet, s1_i1_address)\n",
    "unconfigure_node_interface(s1, net2, subnet, s1_i2_address)\n",
    "unconfigure_node_interface(s1, net3, subnet, s1_i3_address)"
   ]
  }
 ],
 "metadata": {
  "kernelspec": {
   "display_name": "Python 3 (ipykernel)",
   "language": "python",
   "name": "python3"
  },
  "language_info": {
   "codemirror_mode": {
    "name": "ipython",
    "version": 3
   },
   "file_extension": ".py",
   "mimetype": "text/x-python",
   "name": "python",
   "nbconvert_exporter": "python",
   "pygments_lexer": "ipython3",
   "version": "3.9.7"
  }
 },
 "nbformat": 4,
 "nbformat_minor": 5
}
