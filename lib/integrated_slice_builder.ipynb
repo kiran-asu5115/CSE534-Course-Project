{
 "cells": [
  {
   "cell_type": "code",
   "execution_count": 1,
   "id": "b7c928e2-2bf1-45e2-8b7a-f6d1191abc5e",
   "metadata": {},
   "outputs": [],
   "source": [
    "import os\n",
    "import sys"
   ]
  },
  {
   "cell_type": "code",
   "execution_count": 2,
   "id": "2bf3f94a-5c96-463c-9597-ff1201b519d6",
   "metadata": {},
   "outputs": [
    {
     "name": "stdout",
     "output_type": "stream",
     "text": [
      "System Path: ['/home/fabric/work/CSE534/CSE534-Course-Project/integrated-tests', '/opt/conda/lib/python39.zip', '/opt/conda/lib/python3.9', '/opt/conda/lib/python3.9/lib-dynload', '', '/opt/conda/lib/python3.9/site-packages', '/opt/conda/lib/python3.9/site-packages/IPython/extensions', '/home/fabric/.ipython']\n"
     ]
    }
   ],
   "source": [
    "# paths = [\"/home/fabric/work/CSE534/CSE534-Course-Project/\", \"/home/fabric/work/CSE534/CSE534-Course-Project/fabrictestbed\", \n",
    "#          \"/home/fabric/work/CSE534/CSE534-Course-Project/fabrictestbed_extensions\"]\n",
    "# for path in paths:\n",
    "#     sys.path.append(path)\n",
    "print(\"System Path:\", sys.path)"
   ]
  },
  {
   "cell_type": "code",
   "execution_count": 3,
   "id": "7d2f8242-8128-422a-8d5c-ff188df6b8e2",
   "metadata": {},
   "outputs": [
    {
     "name": "stdout",
     "output_type": "stream",
     "text": [
      "Initializing slice_builder_utils - FABLib Configuration\n",
      "-----------------------------------  ---------------------------------------------\n",
      "credmgr_host                         cm.fabric-testbed.net\n",
      "orchestrator_host                    orchestrator.fabric-testbed.net\n",
      "fabric_token                         /home/fabric/.tokens.json\n",
      "project_id                           6ce270de-788d-4e07-8bae-3206860a6387\n",
      "bastion_username                     ksthanus_0000025693\n",
      "bastion_key_filename                 /home/fabric/work/.ssh/fabric_bastion\n",
      "bastion_public_addr                  bastion-1.fabric-testbed.net\n",
      "bastion_passphrase                   None\n",
      "slice_public_key_file                /home/fabric/work/fabric_config/slice_key.pub\n",
      "slice_private_key_file               /home/fabric/work/fabric_config/slice_key\n",
      "fabric_slice_private_key_passphrase  None\n",
      "fablib_log_file                      /tmp/fablib/fablib.log\n",
      "fablib_log_level                     INFO\n",
      "-----------------------------------  ---------------------------------------------\n",
      "Initializing node_builder_utils - FABLib Configuration\n",
      "Initializing component_builder_utils - FABLib Configuration\n",
      "Initializing network_builder_utils - FABLib Configuration\n",
      "setup_elk_grafana - System Path: ['/home/fabric/work/CSE534/CSE534-Course-Project/integrated-tests', '/opt/conda/lib/python39.zip', '/opt/conda/lib/python3.9', '/opt/conda/lib/python3.9/lib-dynload', '', '/opt/conda/lib/python3.9/site-packages', '/opt/conda/lib/python3.9/site-packages/IPython/extensions', '/home/fabric/.ipython']\n",
      "Imports Successful\n"
     ]
    }
   ],
   "source": [
    "from fabrictestbed_extensions.fablib.fablib import FablibManager as fablib_manager\n",
    "from fablib_utils import slice_builder_utils, node_builder_utils, component_builder_utils, network_builder_utils\n",
    "from mflib_utils.setup_elk_grafana import Instrumentize, MeasurementNode\n",
    "print(\"Imports Successful\")"
   ]
  },
  {
   "cell_type": "code",
   "execution_count": 4,
   "id": "ab1d0c5f-ebc4-4881-9906-5d3547ac6b6a",
   "metadata": {},
   "outputs": [
    {
     "name": "stdout",
     "output_type": "stream",
     "text": [
      "-----------------------------------  ---------------------------------------------\n",
      "credmgr_host                         cm.fabric-testbed.net\n",
      "orchestrator_host                    orchestrator.fabric-testbed.net\n",
      "fabric_token                         /home/fabric/.tokens.json\n",
      "project_id                           6ce270de-788d-4e07-8bae-3206860a6387\n",
      "bastion_username                     ksthanus_0000025693\n",
      "bastion_key_filename                 /home/fabric/work/.ssh/fabric_bastion\n",
      "bastion_public_addr                  bastion-1.fabric-testbed.net\n",
      "bastion_passphrase                   None\n",
      "slice_public_key_file                /home/fabric/work/fabric_config/slice_key.pub\n",
      "slice_private_key_file               /home/fabric/work/fabric_config/slice_key\n",
      "fabric_slice_private_key_passphrase  None\n",
      "fablib_log_file                      /tmp/fablib/fablib.log\n",
      "fablib_log_level                     INFO\n",
      "-----------------------------------  ---------------------------------------------\n"
     ]
    }
   ],
   "source": [
    "fablib = fablib_manager()\n",
    "fablib.show_config()"
   ]
  },
  {
   "cell_type": "code",
   "execution_count": 5,
   "id": "ff79e7bb-e7e4-4d5d-8c37-f64cbedd564b",
   "metadata": {},
   "outputs": [],
   "source": [
    "slice_name = \"Kiran_Integrated_Test_1\"\n",
    "# integrated_slice = slice_builder_utils.create_slice(slice_name)"
   ]
  },
  {
   "cell_type": "code",
   "execution_count": 6,
   "id": "45db15f2-3618-4dad-a9cc-5a220382010c",
   "metadata": {},
   "outputs": [
    {
     "name": "stdout",
     "output_type": "stream",
     "text": [
      "node_builder_utils - Final Parameters for New Node: {'name': 'h1', 'site': 'TACC', 'cores': 2, 'ram': 4, 'disk': 20, 'image': 'default_ubuntu_20'}\n",
      "node_builder_utils - node_builder_utils - Created Node Successfully: h1\n",
      "node_builder_utils - Final Parameters for New Node: {'name': 's1', 'site': 'TACC', 'cores': 2, 'ram': 8, 'disk': 100, 'image': 'default_ubuntu_20'}\n",
      "node_builder_utils - node_builder_utils - Created Node Successfully: s1\n",
      "node_builder_utils - Final Parameters for New Node: {'name': 'h2', 'site': 'TACC', 'cores': 2, 'ram': 4, 'disk': 20, 'image': 'default_ubuntu_20'}\n",
      "node_builder_utils - node_builder_utils - Created Node Successfully: h2\n",
      "node_builder_utils - Final Parameters for New Node: {'name': 'h3', 'site': 'TACC', 'cores': 2, 'ram': 4, 'disk': 20, 'image': 'default_ubuntu_20'}\n",
      "node_builder_utils - node_builder_utils - Created Node Successfully: h3\n"
     ]
    }
   ],
   "source": [
    "site = \"TACC\"\n",
    "\n",
    "h1_name = \"h1\"\n",
    "h1_params = {\n",
    "    \"site\": site,\n",
    "    \"ram\": 4,\n",
    "    \"disk\": 20\n",
    "}\n",
    "h1 = node_builder_utils.add_new_node(integrated_slice, h1_name, h1_params)\n",
    "\n",
    "s1_name = \"s1\"\n",
    "s1_params = {\n",
    "    \"site\": site,\n",
    "    \"ram\": 8,\n",
    "    \"disk\": 100\n",
    "}\n",
    "s1 = node_builder_utils.add_new_node(integrated_slice, s1_name, s1_params)\n",
    "\n",
    "h2_name = \"h2\"\n",
    "h2_params = {\n",
    "    \"site\": site,\n",
    "    \"ram\": 4,\n",
    "    \"disk\": 20\n",
    "}\n",
    "h2 = node_builder_utils.add_new_node(integrated_slice, h2_name, h2_params)\n",
    "\n",
    "h3_name = \"h3\"\n",
    "h3_params = {\n",
    "    \"site\": site,\n",
    "    \"ram\": 4,\n",
    "    \"disk\": 20\n",
    "}\n",
    "h3 = node_builder_utils.add_new_node(integrated_slice, h3_name, h3_params)"
   ]
  },
  {
   "cell_type": "code",
   "execution_count": 7,
   "id": "17b77d73-a39e-459f-bea4-27afa14ccd34",
   "metadata": {
    "tags": []
   },
   "outputs": [
    {
     "name": "stdout",
     "output_type": "stream",
     "text": [
      "component_builder_utils - Final Parameters for New Component: {'model': 'NIC_Basic', 'name': 'host_nic_1'}\n",
      "component_builder_utils - Created Component Successfully: host_nic_1 for Node: h1\n",
      "component_builder_utils - Final Parameters for New Component: {'model': 'NIC_Basic', 'name': 'switch_nic_1_conn_h1'}\n",
      "component_builder_utils - Created Component Successfully: switch_nic_1_conn_h1 for Node: s1\n",
      "component_builder_utils - Final Parameters for New Component: {'model': 'NIC_Basic', 'name': 'switch_nic_1_conn_h2'}\n",
      "component_builder_utils - Created Component Successfully: switch_nic_1_conn_h2 for Node: s1\n",
      "component_builder_utils - Final Parameters for New Component: {'model': 'NIC_Basic', 'name': 'switch_nic_1_conn_h3'}\n",
      "component_builder_utils - Created Component Successfully: switch_nic_1_conn_h3 for Node: s1\n",
      "component_builder_utils - Final Parameters for New Component: {'model': 'NIC_Basic', 'name': 'host_nic_2'}\n",
      "component_builder_utils - Created Component Successfully: host_nic_2 for Node: h2\n",
      "component_builder_utils - Final Parameters for New Component: {'model': 'NIC_Basic', 'name': 'host_nic_3'}\n",
      "component_builder_utils - Created Component Successfully: host_nic_3 for Node: h3\n"
     ]
    }
   ],
   "source": [
    "h1_c1_name = \"host_nic_1\"\n",
    "h1_c1 = component_builder_utils.add_new_component(h1, comp_name=h1_c1_name)\n",
    "\n",
    "s1_c1_name = \"switch_nic_1_conn_h1\"\n",
    "s1_c2_name = \"switch_nic_1_conn_h2\"\n",
    "s1_c3_name = \"switch_nic_1_conn_h3\"\n",
    "s1_c1 = component_builder_utils.add_new_component(s1, comp_name=s1_c1_name)\n",
    "s1_c2 = component_builder_utils.add_new_component(s1, comp_name=s1_c2_name)\n",
    "s1_c3 = component_builder_utils.add_new_component(s1, comp_name=s1_c3_name)\n",
    "\n",
    "h2_c1_name = \"host_nic_2\"\n",
    "h2_c1 = component_builder_utils.add_new_component(h2, comp_name=h2_c1_name)\n",
    "\n",
    "h3_c1_name = \"host_nic_3\"\n",
    "h3_c1 = component_builder_utils.add_new_component(h3, comp_name=h3_c1_name)"
   ]
  },
  {
   "cell_type": "code",
   "execution_count": 8,
   "id": "1107a6a6-5d08-4709-812a-cc208b377d6f",
   "metadata": {},
   "outputs": [
    {
     "name": "stdout",
     "output_type": "stream",
     "text": [
      "component_builder_utils - No. of Interfaces: 1\n",
      "component_builder_utils - Component Interfaces [<fabrictestbed_extensions.fablib.interface.Interface object at 0x7f4b701d9550>]\n",
      "component_builder_utils - No. of Interfaces: 1\n",
      "component_builder_utils - Component Interfaces [<fabrictestbed_extensions.fablib.interface.Interface object at 0x7f4b701d9610>]\n",
      "network_builder_utils - Final Parameters for New Network Connection: C1 {'type': 'L2Bridge', 'name': 'C1', 'interfaces': [<fabrictestbed_extensions.fablib.interface.Interface object at 0x7f4b701d9550>, <fabrictestbed_extensions.fablib.interface.Interface object at 0x7f4b701d9610>]}\n",
      "network_builder_utils - Created Network Connection Successfully: C1 in Slice: Kiran_Integrated_Test_1\n",
      "component_builder_utils - No. of Interfaces: 1\n",
      "component_builder_utils - Component Interfaces [<fabrictestbed_extensions.fablib.interface.Interface object at 0x7f4ba87614c0>]\n",
      "component_builder_utils - No. of Interfaces: 1\n",
      "component_builder_utils - Component Interfaces [<fabrictestbed_extensions.fablib.interface.Interface object at 0x7f4ba8767f40>]\n",
      "network_builder_utils - Final Parameters for New Network Connection: C2 {'type': 'L2Bridge', 'name': 'C2', 'interfaces': [<fabrictestbed_extensions.fablib.interface.Interface object at 0x7f4ba87614c0>, <fabrictestbed_extensions.fablib.interface.Interface object at 0x7f4ba8767f40>]}\n",
      "network_builder_utils - Created Network Connection Successfully: C2 in Slice: Kiran_Integrated_Test_1\n",
      "component_builder_utils - No. of Interfaces: 1\n",
      "component_builder_utils - Component Interfaces [<fabrictestbed_extensions.fablib.interface.Interface object at 0x7f4b701d9430>]\n",
      "component_builder_utils - No. of Interfaces: 1\n",
      "component_builder_utils - Component Interfaces [<fabrictestbed_extensions.fablib.interface.Interface object at 0x7f4b701d9d60>]\n",
      "network_builder_utils - Final Parameters for New Network Connection: C3 {'type': 'L2Bridge', 'name': 'C3', 'interfaces': [<fabrictestbed_extensions.fablib.interface.Interface object at 0x7f4b701d9430>, <fabrictestbed_extensions.fablib.interface.Interface object at 0x7f4b701d9d60>]}\n",
      "network_builder_utils - Created Network Connection Successfully: C3 in Slice: Kiran_Integrated_Test_1\n"
     ]
    }
   ],
   "source": [
    "conh1_name = \"C1\"\n",
    "s1_c1_i1 = component_builder_utils.get_interface_of_component(s1_c1, interface_number=1)\n",
    "h1_c1_i1 = component_builder_utils.get_interface_of_component(h1_c1, interface_number=1)\n",
    "conh1_interfaces = [s1_c1_i1, h1_c1_i1]\n",
    "conh1 = network_builder_utils.add_new_network_connection(integrated_slice, conh1_name, conn_interfaces=conh1_interfaces)\n",
    "\n",
    "conh2_name = \"C2\"\n",
    "s1_c1_i2 = component_builder_utils.get_interface_of_component(s1_c2, interface_number=1)\n",
    "h2_c1_i1 = component_builder_utils.get_interface_of_component(h2_c1, interface_number=1)\n",
    "conh2_interfaces = [s1_c1_i2, h2_c1_i1]\n",
    "conh2 = network_builder_utils.add_new_network_connection(integrated_slice, conh2_name, conn_interfaces=conh2_interfaces)\n",
    "\n",
    "conh3_name = \"C3\"\n",
    "s1_c1_i3 = component_builder_utils.get_interface_of_component(s1_c3, interface_number=1)\n",
    "h3_c1_i1 = component_builder_utils.get_interface_of_component(h3_c1, interface_number=1)\n",
    "conh3_interfaces = [s1_c1_i3, h3_c1_i1]\n",
    "conh3 = network_builder_utils.add_new_network_connection(integrated_slice, conh3_name, conn_interfaces=conh3_interfaces)"
   ]
  },
  {
   "cell_type": "code",
   "execution_count": 9,
   "id": "e93d7189-be29-4d54-a964-f7009ed5861e",
   "metadata": {},
   "outputs": [
    {
     "name": "stdout",
     "output_type": "stream",
     "text": [
      "setup_elk_grafana - Setting up Measurement Node\n",
      "mflib file -> Setting Site\n",
      "setup_elk_grafana - Setting up Measurement Node Setup Completed!\n"
     ]
    }
   ],
   "source": [
    "meas_slice_obj = MeasurementNode(integrated_slice)"
   ]
  },
  {
   "cell_type": "code",
   "execution_count": 10,
   "id": "1380145f-31e8-4dfb-8fe1-5197f226e0c4",
   "metadata": {},
   "outputs": [
    {
     "name": "stdout",
     "output_type": "stream",
     "text": [
      "slice_builder_utils - Slice Topology Saved Successfully: Kiran_Integrated_Test_1 Path: /home/fabric/work/CSE534/CSE534-Course-Project/integrated-tests/Kiran_Integrated_Test_1.graphml\n"
     ]
    }
   ],
   "source": [
    "topo_file_name = slice_name + \".graphml\"\n",
    "topo_file_path = os.path.join(os.getcwd(), topo_file_name)\n",
    "slice_builder_utils.save_slice_topology(integrated_slice, topo_file_path)"
   ]
  },
  {
   "cell_type": "code",
   "execution_count": 11,
   "id": "4abf4f9c-f1f9-418f-9067-244f8b237524",
   "metadata": {},
   "outputs": [
    {
     "name": "stdout",
     "output_type": "stream",
     "text": [
      "\n",
      "-----------  ------------------------------------\n",
      "Slice Name   Kiran_Integrated_Test_1\n",
      "Slice ID     89f3a27e-3e39-4d2e-b289-11f2df7140c6\n",
      "Slice State  StableOK\n",
      "Lease End    2022-11-12 01:46:56 +0000\n",
      "-----------  ------------------------------------\n",
      "\n",
      "Retry: 15, Time: 239 sec\n",
      "\n",
      "ID                                    Name        Site    Host                          Cores    RAM    Disk  Image              Management IP    State    Error\n",
      "------------------------------------  ----------  ------  --------------------------  -------  -----  ------  -----------------  ---------------  -------  -------\n",
      "f6a5f852-a1bc-4ea2-bfd5-ce0ef8554dab  h1          TACC    tacc-w5.fabric-testbed.net        2      4     100  default_ubuntu_20  129.114.110.87   Active\n",
      "87365578-2224-473f-8039-19230ae5cd0e  s1          TACC    tacc-w5.fabric-testbed.net        2      8     100  default_ubuntu_20  129.114.110.125  Active\n",
      "90295966-e424-4fd9-8943-5bd7d5b2c541  h2          TACC    tacc-w5.fabric-testbed.net        2      4     100  default_ubuntu_20  129.114.110.103  Active\n",
      "7793456a-023e-44fd-9278-7a8b079d1361  h3          TACC    tacc-w5.fabric-testbed.net        2      4     100  default_ubuntu_20  129.114.110.83   Active\n",
      "acecb624-8dc4-46a4-beec-6e3e8e15afcf  _meas_node  TACC    tacc-w5.fabric-testbed.net        2      8     100  default_ubuntu_20  129.114.110.75   Active\n",
      "\n",
      "Time to stable 239 seconds\n",
      "Running post_boot_config ... Time to post boot config 267 seconds\n",
      "\n",
      "Name                        Node        Network      Bandwidth  VLAN    MAC                Physical OS Interface    OS Interface\n",
      "--------------------------  ----------  ---------  -----------  ------  -----------------  -----------------------  --------------\n",
      "h1-host_nic_1-p1            h1          C1                   0          32:A2:E4:8E:94:EA  ens8                     ens8\n",
      "h1-Meas_Nic1-p1             h1          _meas_net            0          32:02:CC:A3:8B:03  ens7                     ens7\n",
      "s1-switch_nic_1_conn_h1-p1  s1          C1                   0          3A:8A:C8:9F:8D:57  ens10                    ens10\n",
      "s1-Meas_Nic2-p1             s1          _meas_net            0          3A:74:B9:EB:AC:21  ens9                     ens9\n",
      "s1-switch_nic_1_conn_h2-p1  s1          C2                   0          32:D1:AA:31:AD:08  ens7                     ens7\n",
      "s1-switch_nic_1_conn_h3-p1  s1          C3                   0          36:C3:C9:9A:F6:6F  ens8                     ens8\n",
      "h2-host_nic_2-p1            h2          C2                   0          3E:E2:9E:42:44:39  ens8                     ens8\n",
      "h2-Meas_Nic3-p1             h2          _meas_net            0          3E:3F:B5:BA:22:1C  ens7                     ens7\n",
      "h3-host_nic_3-p1            h3          C3                   0          42:29:E0:A8:A3:10  ens7                     ens7\n",
      "h3-Meas_Nic4-p1             h3          _meas_net            0          46:3C:A0:97:1C:D2  ens8                     ens8\n",
      "_meas_node-Meas_Nic-p1      _meas_node  _meas_net            0          46:95:0C:7D:CA:12  ens7                     ens7\n",
      "\n",
      "Time to print interfaces 292 seconds\n"
     ]
    }
   ],
   "source": [
    "slice_builder_utils.submit_slice(integrated_slice)"
   ]
  },
  {
   "cell_type": "code",
   "execution_count": 12,
   "id": "6804f7f0-d19b-45bb-94eb-1a02318e3915",
   "metadata": {},
   "outputs": [
    {
     "name": "stdout",
     "output_type": "stream",
     "text": [
      "slice_builder_utils - New Lease End Date for Slice: Kiran_Integrated_Test_1 is 2022-11-18 01:53:23 +0000\n"
     ]
    }
   ],
   "source": [
    "days = 7\n",
    "slice_builder_utils.extend_slice_lease(slice_name, days)"
   ]
  },
  {
   "cell_type": "code",
   "execution_count": 6,
   "id": "b08e9127-af8a-44b7-abf5-53104bad98ce",
   "metadata": {},
   "outputs": [
    {
     "name": "stdout",
     "output_type": "stream",
     "text": [
      "setup_elk_grafana - Setting up Measurement Framework Object\n",
      "Inititializing slice \"Kiran_Integrated_Test_1\" for MeasurementFramework.\n",
      "Found meas node as _meas_node at 129.114.110.75\n",
      "{'mfuser_keys': 'ok', 'mfusers': 'ok', 'ipv6_4_nat': 'not needed', 'repo_cloned': 'ok', 'meas_network': 'ok', 'bootstrap_script': 'ok', 'status': 'ready'}\n",
      "Bootstrap status is\n",
      "{'mfuser_keys': 'ok', 'mfusers': 'ok', 'ipv6_4_nat': 'not needed', 'repo_cloned': 'ok', 'meas_network': 'ok', 'bootstrap_script': 'ok', 'status': 'ready'}\n",
      "Bootstrap status indicates Slice Measurement Framework is ready.\n",
      "Setting up Prometheus...\n",
      "{'grafana_admin_pass': 'wWLGGxDt', 'success': True, 'msg': 'Prometheus ansible script ran..', 'play_recap': 'PLAY RECAP *********************************************************************\\n_meas_node                 : ok=96   changed=14   unreachable=0    failed=0    skipped=14   rescued=0    ignored=0   \\nh1                         : ok=96   changed=14   unreachable=0    failed=0    skipped=14   rescued=0    ignored=0   \\nh2                         : ok=95   changed=14   unreachable=0    failed=0    skipped=12   rescued=0    ignored=0   \\nh3                         : ok=95   changed=14   unreachable=0    failed=0    skipped=12   rescued=0    ignored=0   \\ns1                         : ok=95   changed=14   unreachable=0    failed=0    skipped=12   rescued=0    ignored=0   \\n\\n'}\n",
      "Setting up ELK...\n",
      "{'msg': 'ELK ansible script ran..', 'success': True, 'play_recap': 'PLAY RECAP *********************************************************************\\n_meas_node                 : ok=17   changed=9    unreachable=0    failed=0    skipped=9    rescued=0    ignored=0   \\nh1                         : ok=22   changed=15   unreachable=0    failed=0    skipped=10   rescued=0    ignored=0   \\nh2                         : ok=22   changed=15   unreachable=0    failed=0    skipped=10   rescued=0    ignored=0   \\nh3                         : ok=22   changed=15   unreachable=0    failed=0    skipped=10   rescued=0    ignored=0   \\ns1                         : ok=22   changed=15   unreachable=0    failed=0    skipped=10   rescued=0    ignored=0   \\n\\n'}\n",
      "Instrumentize Done.\n",
      "It appears you have not added alternate ssh config or slice key file locations to the fabric_rc file. FABRIC_ALT_COPY_SSH_CONFIG not found in fabric_rc file. FABRIC_ALT_COPY_SLICE_PRIVATE_KEY_FILE not found in fabric_rc file. \n",
      "{'success': True, 'msg': '', 'grafana_admin_password': 'wWLGGxDt'}\n",
      "It appears you have not added alternate ssh config or slice key file locations to the fabric_rc file. FABRIC_ALT_COPY_SSH_CONFIG not found in fabric_rc file. FABRIC_ALT_COPY_SLICE_PRIVATE_KEY_FILE not found in fabric_rc file. \n",
      "{'success': True, 'msg': '', 'nginx_password': 'gWEkZvRAsmLfVA8HxqLs', 'nginx_id': 'fabric'}\n",
      "user: fabric \n",
      "pass: gWEkZvRAsmLfVA8HxqLs\n",
      "setup_elk_grafana - Measurement Framework Object Setup Completed!\n"
     ]
    }
   ],
   "source": [
    "meas_node = Instrumentize(slice_name)"
   ]
  },
  {
   "cell_type": "code",
   "execution_count": 8,
   "id": "acbd8e50-82af-40ae-b400-5b2c54a38c0a",
   "metadata": {},
   "outputs": [
    {
     "name": "stdout",
     "output_type": "stream",
     "text": [
      "{'success': True, 'msg': 'Have dashboard file up.json.\\nAdded dashboard up.json\\n', 'up.json': {'success': True, 'msg': 'Successfully uploaded dashboard.'}}\n"
     ]
    }
   ],
   "source": [
    "meas_node.upload_grafana_dashboard()"
   ]
  },
  {
   "cell_type": "code",
   "execution_count": null,
   "id": "620f304f-7736-4dc5-8981-40d6758cc1c2",
   "metadata": {},
   "outputs": [],
   "source": []
  }
 ],
 "metadata": {
  "kernelspec": {
   "display_name": "Python 3 (ipykernel)",
   "language": "python",
   "name": "python3"
  },
  "language_info": {
   "codemirror_mode": {
    "name": "ipython",
    "version": 3
   },
   "file_extension": ".py",
   "mimetype": "text/x-python",
   "name": "python",
   "nbconvert_exporter": "python",
   "pygments_lexer": "ipython3",
   "version": "3.9.7"
  }
 },
 "nbformat": 4,
 "nbformat_minor": 5
}
