{
 "cells": [
  {
   "cell_type": "markdown",
   "id": "0c2da6f1",
   "metadata": {},
   "source": [
    "#### Measurement Framework Library\n",
    "# MFLib API Examples: Jupyter Notebooks\n",
    "The MeasurementFramework Library - MFLib - makes it easy to install an extensive collection of monitoring tools into your Fabric experiment.\n",
    "\n",
    "To get started you should check if you need to [Configure Key Copies](./configure_keys.ipynb) on your local machine. Most likely you will as this is the most common use case.    \n",
    "Next go to [Instumentize a Slice](./instrumentize_a_slice.ipynb) to learn how to add monitoring to your experiment. This notebook will get your slice instrumentized.  \n",
    "Once the slice is Instrumentized and gathering data go to [Prometheus & Grafana in a Slice](./prometheus_grafana.ipynb) and [ELK & Kibana in a Slice](./elk_kibana.ipynb) to learn how to access the collected data.  \n",
    "Then go on to the More Ways to Use Graphs notebooks to learn how to add static and dynamic graphs to your notebooks.  \n",
    "\n"
   ]
  },
  {
   "cell_type": "markdown",
   "id": "40bcc917",
   "metadata": {
    "tags": []
   },
   "source": [
    "\n",
    "## Getting Started Tutorials\n",
    "\n",
    "- [Configure Key Copies](./configure_keys.ipynb): Setup keys for SSH tunnels required for accessing Grafana & Kibana\n",
    "- [Instumentize a Slice](./instrumentize_a_slice.ipynb): Basic first slice Instrumentation using MFLib API  \n",
    "\n",
    "- [Prometheus & Grafana in a Slice](./prometheus_grafana.ipynb): Accessing Prometheus metrics with Grafana.\n",
    "- [ELK & Kibana in a Slice](./elk_kibana.ipynb) Accessing ELK logs & metrics with Kibana.\n",
    "\n",
    "## More Ways to Use Graphs\n",
    "\n",
    "- [Adding Graphs to Jupyter Notebooks](./mfvis_jupyternotebook_graphs.ipynb): Adding Graphs to Jupyter Notebooks using MFVis API\n",
    "- [Downloading Graphs](./mfvis_graph_downloading.ipynb): Downloading PNG Graphs using MFVis API\n",
    "\n",
    "## Dive Deeper into MFLib\n",
    "- [In depth MFLib](./indepth_mflib.ipynb): A more advanced and in depth look at MFLib features.\n"
   ]
  },
  {
   "cell_type": "markdown",
   "id": "e70904b3",
   "metadata": {},
   "source": []
  }
 ],
 "metadata": {
  "kernelspec": {
   "display_name": "Python 3 (ipykernel)",
   "language": "python",
   "name": "python3"
  },
  "language_info": {
   "codemirror_mode": {
    "name": "ipython",
    "version": 3
   },
   "file_extension": ".py",
   "mimetype": "text/x-python",
   "name": "python",
   "nbconvert_exporter": "python",
   "pygments_lexer": "ipython3",
   "version": "3.9.7"
  },
  "vscode": {
   "interpreter": {
    "hash": "916dbcbb3f70747c44a77c7bcd40155683ae19c65e1c03b4aa3499c5328201f1"
   }
  }
 },
 "nbformat": 4,
 "nbformat_minor": 5
}
