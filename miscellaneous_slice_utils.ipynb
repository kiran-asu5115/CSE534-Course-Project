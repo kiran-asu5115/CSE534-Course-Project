{
 "cells": [
  {
   "cell_type": "code",
   "execution_count": 3,
   "id": "5a960846-21ed-4ef3-b8be-4563fd358a0c",
   "metadata": {},
   "outputs": [
    {
     "name": "stdout",
     "output_type": "stream",
     "text": [
      "Initializing slice_builder_utils - FABLib Configuration\n",
      "-----------------------------------  ---------------------------------------------\n",
      "credmgr_host                         cm.fabric-testbed.net\n",
      "orchestrator_host                    orchestrator.fabric-testbed.net\n",
      "fabric_token                         /home/fabric/.tokens.json\n",
      "project_id                           6ce270de-788d-4e07-8bae-3206860a6387\n",
      "bastion_username                     ksthanus_0000025693\n",
      "bastion_key_filename                 /home/fabric/work/.ssh/fabric_bastion\n",
      "bastion_public_addr                  bastion-1.fabric-testbed.net\n",
      "bastion_passphrase                   None\n",
      "slice_public_key_file                /home/fabric/work/fabric_config/slice_key.pub\n",
      "slice_private_key_file               /home/fabric/work/fabric_config/slice_key\n",
      "fabric_slice_private_key_passphrase  None\n",
      "fablib_log_file                      /tmp/fablib/fablib.log\n",
      "fablib_log_level                     INFO\n",
      "-----------------------------------  ---------------------------------------------\n"
     ]
    }
   ],
   "source": [
    "from lib.fablib_utils import slice_builder_utils\n",
    "import os"
   ]
  },
  {
   "cell_type": "code",
   "execution_count": 4,
   "id": "ec80d435-f983-48aa-8d85-73729aea76c3",
   "metadata": {},
   "outputs": [],
   "source": [
    "def extend_slice_leases():\n",
    "    slices = [\"Kiran_Integrated_Test_1\", \"Kiran_P4_Test_1\", \"Final_Integrated_Topology_1\", \"Final_Integrated_Topology_2\", \"Final_Integrated_Topology_3\"]\n",
    "    for slice_name in slices:\n",
    "        slice_builder_utils.extend_slice_lease(slice_name, days=14)\n",
    "\n",
    "# extend_slice_leases()"
   ]
  },
  {
   "cell_type": "code",
   "execution_count": 5,
   "id": "185b6b4f-1c52-4103-89e4-00e382fd1da6",
   "metadata": {},
   "outputs": [],
   "source": [
    "def get_node_interface_info(inst_slice, avoid_networks=[]):\n",
    "    node_interface_info = {}\n",
    "    interfaces = slice_builder_utils.get_slice_interfaces(slice=inst_slice)\n",
    "    for interface in interfaces:\n",
    "        node, net = interface.get_node(), interface.get_network().get_name()\n",
    "        os_int, ip_addr, mac_addr = interface.get_os_interface(), interface.get_ip_addr(), interface.get_mac()\n",
    "        if net in avoid_networks:\n",
    "            pass\n",
    "        elif node in node_interface_info:\n",
    "            node_interface_info[node][net] = {\"os_interface\": os_int, \"ip_addr\": ip_addr, \"mac_addr\": mac_addr}\n",
    "        else:\n",
    "            node_interface_info[node] = {net: {\"os_interface\": os_int, \"ip_addr\": ip_addr, \"mac_addr\": mac_addr}}\n",
    "    \n",
    "    for i, src_node in enumerate(node_interface_info):\n",
    "        for connection in node_interface_info[src_node]:\n",
    "            for j, dst_node in enumerate(node_interface_info):\n",
    "                if i == j:\n",
    "                    pass\n",
    "                elif connection in node_interface_info[dst_node]:\n",
    "                    node_interface_info[src_node][connection]['dst_node'] = dst_node\n",
    "                else:\n",
    "                    pass\n",
    "                \n",
    "    return node_interface_info"
   ]
  },
  {
   "cell_type": "code",
   "execution_count": 6,
   "id": "b4a91e47-d0a6-4933-b2a2-ff33a609645b",
   "metadata": {},
   "outputs": [],
   "source": [
    "slice_name = \"Final_Integrated_Topology_3\"\n",
    "inst_slice = slice_builder_utils.get_slice_by_name_or_id(slice_name=slice_name)\n",
    "avoid_networks = [\"_meas_net\"]\n",
    "node_interface_info = get_node_interface_info(inst_slice, avoid_networks)"
   ]
  },
  {
   "cell_type": "code",
   "execution_count": 33,
   "id": "3b0b85d9-a30f-4b6b-8d86-9ceee8786ebb",
   "metadata": {},
   "outputs": [],
   "source": [
    "def get_ethernet_port_mappings(node_interface_info):\n",
    "    ethernet_port_mappings = {}\n",
    "    for node in node_interface_info:\n",
    "        # print(\"{}:\".format(node.get_name()))\n",
    "        # print(node_interface_info[node])\n",
    "        mappings = {}\n",
    "        for i, connection in enumerate(node_interface_info[node]):\n",
    "            mappings[node_interface_info[node][connection]['os_interface']] = i\n",
    "        ethernet_port_mappings[node.get_name()] = mappings\n",
    "    print(\"Ethernet Port Mappings:\", ethernet_port_mappings)\n",
    "    return ethernet_port_mappings"
   ]
  },
  {
   "cell_type": "code",
   "execution_count": 34,
   "id": "c44c42e1-5823-4066-af31-59e997c45714",
   "metadata": {},
   "outputs": [],
   "source": [
    "def get_p4_run_command_for_switch(inst_slice, switch, ethernet_port_mappings, thrift_port=9030):\n",
    "    command_prefix = \"sudo simple_switch \"\n",
    "    thrift_port_command = \"--thrift-port \" + str(thrift_port) + \" \"\n",
    "    interfaces_prefix = \"--interface \"\n",
    "    interfaces_command = \"\"\n",
    "    program_name = \"p4_basic_routing_2\"\n",
    "    program_command = program_name + \".bmv2/\" + program_name + \".json\"\n",
    "    for interface in ethernet_port_mappings[switch]:\n",
    "        interfaces_command += interfaces_prefix + ethernet_port_mappings[switch][interface] + \"@\" + str(interface) + \" \"\n",
    "    final_command = command_prefix + thrift_port_command + interfaces_command + program_command\n",
    "    print(switch, final_command)\n",
    "    return final_command\n",
    "\n",
    "def start_p4_on_switch(switch_commands):\n",
    "    switch_nodes = [x for x in inst_slice.get_nodes() if x.get_name().startswith(\"Switch\")]\n",
    "    for switch in switch_nodes:\n",
    "        print(\"Switching on P4 for Switch:\", switch.get_name())\n",
    "        switch.execute_thread(switch_commands[switch.get_name()])\n",
    "        \n",
    "def run_p4_on_topology(inst_slice, ethernet_port_mappings, thrift_port=9030):\n",
    "    switch_nodes = [x.get_name() for x in inst_slice.get_nodes() if x.get_name().startswith(\"Switch\")]\n",
    "    print(\"Switch Nodes\", switch_nodes)\n",
    "    final_commands = {}\n",
    "    for switch in switch_nodes:\n",
    "        final_commands[switch] = get_p4_run_command_for_switch(inst_slice, switch, ethernet_port_mappings, thrift_port)\n",
    "    start_p4_on_switch(final_commands)"
   ]
  },
  {
   "cell_type": "code",
   "execution_count": 35,
   "id": "439fdbbf-d4dd-4bee-9307-f1c9fa346f37",
   "metadata": {},
   "outputs": [
    {
     "name": "stdout",
     "output_type": "stream",
     "text": [
      "Ethernet Port Mappings: {'Host_1': {'ens8': 0}, 'Host_2': {'ens7': 0}, 'Host_3': {'ens7': 0}, 'Host_4': {'ens7': 0}, 'Switch_1': {'ens7': 0, 'ens8': 1, 'ens9': 2}, 'Switch_2': {'ens7': 0, 'ens10': 1, 'ens8': 2}, 'Switch_3': {'ens9': 0, 'ens10': 1, 'ens7': 2}, 'Switch_4': {'ens8': 0, 'ens9': 1, 'ens10': 2}}\n"
     ]
    }
   ],
   "source": [
    "ethernet_port_mappings = get_ethernet_port_mappings(node_interface_info)\n",
    "thrift_port = 9030\n",
    "run_p4_on_topology(inst_slice, ethernet_port_mappings, thrift_port=thrift_port)"
   ]
  },
  {
   "cell_type": "code",
   "execution_count": 52,
   "id": "5bd76c65-3da8-4377-8ccb-6d58a4136886",
   "metadata": {},
   "outputs": [],
   "source": [
    "import random\n",
    "\n",
    "def get_host_info(info, host):\n",
    "    host_info = None\n",
    "    for h in info:\n",
    "        if h.get_name() == host:\n",
    "            host_info = node_interface_info[h]\n",
    "            break\n",
    "    return host_info\n",
    "\n",
    "def get_connection_info(info, endpoint):\n",
    "    for connection in info:\n",
    "        if info[connection][\"dst_node\"].get_name() == endpoint:\n",
    "            return connection\n",
    "        else:\n",
    "            pass\n",
    "    return None\n",
    "    \n",
    "def get_configuration_info(node_interface_info, src_host, dst_host):\n",
    "    src_host_info = get_host_info(node_interface_info, src_host)\n",
    "    dst_host_info = get_host_info(node_interface_info, dst_host)\n",
    "    if src_host_info is None or dst_host_info is None:\n",
    "        print(\"Cannot find Source Host {} / Destination Host {} in Node Interface Info\".format(src_host, dst_host))\n",
    "        return None\n",
    "    else:\n",
    "        pass\n",
    "    \n",
    "    src_dst_conn = get_connection_info(src_host_info, endpoint=dst_host)\n",
    "    dst_src_conn = get_connection_info(dst_host_info, endpoint=src_host)\n",
    "    if src_dst_conn is None or dst_src_conn is None or src_dst_conn != dst_src_conn:\n",
    "        print(\"Cannot find Connection between Source {} / Destiantion Host {} in Node Interface Info\".format(src_host, dst_host))\n",
    "        return None\n",
    "    else:\n",
    "        final_connection = src_dst_conn\n",
    "    \n",
    "    src_egress_port = src_host_info[final_connection]['os_interface']\n",
    "    dst_port_mac_addr = dst_host_info[final_connection]['mac_addr']\n",
    "    dst_host_ip_addr = dst_host_info[final_connection]['ip_addr']\n",
    "    return final_connection, dst_port_mac_addr, src_egress_port, dst_host_ip_addr\n",
    "\n",
    "def get_final_route(all_routes, src_host, dst_host):\n",
    "    if src_host not in all_routes:\n",
    "        print(\"No Routes available for Source Host:\", src_host, \"in Routes:\", all_routes)\n",
    "        return\n",
    "    if dst_host not in all_routes[src_host]:\n",
    "        print(\"No Routes available to Destination Host:\", dst_host, \"from Source Host:\", src_host, \"in Routes:\", all_routes)\n",
    "        return\n",
    "    \n",
    "    available_routes = all_routes[src_host][dst_host]\n",
    "    n = len(available_routes)\n",
    "    if n == 0: \n",
    "        print(\"Zero Routes available to Destination Host:\", dst_host, \"from Source Host:\", src_host, \"in Routes:\", all_routes)\n",
    "        return\n",
    "    if n == 1:\n",
    "        final_route = available_routes[0]\n",
    "    else:\n",
    "        route_no = random.randint(0, n - 1)\n",
    "        final_route = available_routes[route_no]\n",
    "    print(\"Using Route:\", final_route)\n",
    "    return final_route\n",
    "\n",
    "def get_complete_p4_route_configurations(node_configuration_info, route):\n",
    "    route_configurations = []\n",
    "    for i in range(0, len(route) - 1, 1):\n",
    "        src, dst = route[i], route[i + 1]\n",
    "        if src.startswith(\"Host\"):\n",
    "            pass\n",
    "        else:\n",
    "            configuration = get_configuration_info(node_interface_info, src, dst)\n",
    "            if configuration is None:\n",
    "                print(\"Aborting Configutation\")\n",
    "                return None\n",
    "            else:\n",
    "                route_configurations.append([src] + list(configuration))\n",
    "    print(\"Route Configurations for Route:\", route, \"->\", route_configurations)\n",
    "    return route_configurations"
   ]
  },
  {
   "cell_type": "code",
   "execution_count": 97,
   "id": "e335df32-d3c6-4e22-a901-58cdb58897c2",
   "metadata": {},
   "outputs": [],
   "source": [
    "def upload_p4_command_file(inst_slice, switch, p4_commands):\n",
    "    p4_command_file_name = switch.get_name() + \"_Command.txt\"\n",
    "    p4_command_file_path = os.path.join(os.getcwd(), \"lib\", \"p4_commands\", p4_command_file_name)\n",
    "    with open(p4_command_file_path, \"w\") as f:\n",
    "        f.writelines(p4_commands)\n",
    "    switch.upload_file(p4_command_file_path, p4_command_file_name)\n",
    "    return p4_command_file_name\n",
    "    \n",
    "def execute_p4_route_configurations(inst_slice, p4_route_configurations, dst_ip_addr_subnet, ethernet_port_mappings, thrift_port=9030):\n",
    "    switches = inst_slice.get_nodes()\n",
    "    p4_command_prefix = \"table_add MyIngress.ipv4_lpm MyIngress.ipv4_forward \"\n",
    "    p4_run_command = \"simple_switch_CLI --thrift-port \" + str(thrift_port)\n",
    "    ip_addr_command = dst_ip_addr_subnet + \" => \"\n",
    "    for p4_route_config in p4_route_configurations:\n",
    "        switch_name, _, dst_mac_addr, egress_port, _ = p4_route_config\n",
    "        switch = [s for s in switches if s.get_name() == switch_name][0]\n",
    "        mac_port_command = dst_mac_addr + \" \" + str(ethernet_port_mappings[switch_name][egress_port])\n",
    "        full_p4_config_command = p4_command_prefix + ip_addr_command + mac_port_command\n",
    "        print(switch_name, full_p4_config_command)\n",
    "        file_name = upload_p4_command_file(inst_slice, switch, [full_p4_config_command])\n",
    "        full_p4_exec_command = p4_run_command + \" < \" + file_name\n",
    "        print(\"Executing P4 Add Table Command for Switch:\", switch_name, \":\", full_p4_exec_command)\n",
    "        switch.execute_thread(full_p4_exec_command)\n",
    "        \n",
    "def add_complete_route(inst_slice, all_routes, node_interface_info, ethernet_port_mappings, src_host, dst_host, thrift_port):\n",
    "    route = get_final_route(all_routes, src_host, dst_host)\n",
    "    p4_route_configurations = get_complete_p4_route_configurations(node_interface_info, route)\n",
    "    dst_ip_addr = p4_route_configurations[-1][-1]\n",
    "    dst_ip_addr_subnet = \".\".join(dst_ip_addr.split(\".\")[0:3]) + \".0/24\"\n",
    "    print(\"Destination IP Address: {} Destination IP Address Subnet {}\".format(dst_ip_addr, dst_ip_addr_subnet))\n",
    "    execute_p4_route_configurations(inst_slice, p4_route_configurations, dst_ip_addr_subnet, ethernet_port_mappings, thrift_port)"
   ]
  },
  {
   "cell_type": "code",
   "execution_count": 98,
   "id": "957cd80e-c607-4171-8cfb-09658eb4a54e",
   "metadata": {},
   "outputs": [],
   "source": [
    "host_routes = {}\n",
    "host_routes[\"Host_1\"] = {\n",
    "    \"Host_2\": [[\"Host_1\", \"Switch_1\", \"Switch_2\", \"Host_2\"], [\"Host_1\", \"Switch_1\", \"Switch_3\", \"Switch_4\", \"Switch_2\", \"Host_2\"]]\n",
    "}\n",
    "host_routes[\"Host_2\"] = {\n",
    "    \"Host_1\": [[\"Host_2\", \"Switch_2\", \"Switch_1\", \"Host_1\"], [\"Host_2\", \"Switch_2\", \"Switch_4\", \"Switch_3\", \"Switch_1\", \"Host_1\"]]\n",
    "}"
   ]
  },
  {
   "cell_type": "code",
   "execution_count": 99,
   "id": "15dddd8e-449b-4871-94df-4da7083938df",
   "metadata": {},
   "outputs": [
    {
     "name": "stdout",
     "output_type": "stream",
     "text": [
      "Using Route: ['Host_1', 'Switch_1', 'Switch_2', 'Host_2']\n",
      "Route Configurations for Route: ['Host_1', 'Switch_1', 'Switch_2', 'Host_2'] -> [['Switch_1', 'SS12', '66:34:E5:92:21:E2', 'ens9', '192.170.1.2'], ['Switch_2', 'HS2', '42:C9:CB:D1:F4:E4', 'ens8', '192.168.2.2']]\n",
      "Destination IP Address: 192.168.2.2 Destination IP Address Subnet 192.168.2.0/24\n",
      "Switch_1 table_add MyIngress.ipv4_lpm MyIngress.ipv4_forward 192.168.2.0/24 => 66:34:E5:92:21:E2 2\n",
      "Executing P4 Add Table Command for Switch: Switch_1 : simple_switch_CLI --thrift-port 9030 < Switch_1_Command.txt\n",
      "Switch_2 table_add MyIngress.ipv4_lpm MyIngress.ipv4_forward 192.168.2.0/24 => 42:C9:CB:D1:F4:E4 2\n",
      "Executing P4 Add Table Command for Switch: Switch_2 : simple_switch_CLI --thrift-port 9030 < Switch_2_Command.txt\n"
     ]
    }
   ],
   "source": [
    "src_host, dst_host = \"Host_1\", \"Host_2\"\n",
    "add_complete_route(inst_slice, host_routes, node_interface_info, ethernet_port_mappings, src_host, dst_host, thrift_port)"
   ]
  },
  {
   "cell_type": "code",
   "execution_count": 100,
   "id": "d0d8ebf9-1562-4748-938d-e0894526f02e",
   "metadata": {},
   "outputs": [
    {
     "name": "stdout",
     "output_type": "stream",
     "text": [
      "Using Route: ['Host_2', 'Switch_2', 'Switch_4', 'Switch_3', 'Switch_1', 'Host_1']\n",
      "Route Configurations for Route: ['Host_2', 'Switch_2', 'Switch_4', 'Switch_3', 'Switch_1', 'Host_1'] -> [['Switch_2', 'SS24', '6E:D6:0F:82:A6:C7', 'ens7', '192.170.3.2'], ['Switch_4', 'SS34', '6A:15:96:5C:B2:AF', 'ens10', '192.170.4.1'], ['Switch_3', 'SS13', '52:71:45:BA:B8:81', 'ens7', '192.170.2.1'], ['Switch_1', 'HS1', '42:3B:6C:9A:8B:D3', 'ens8', '192.168.1.2']]\n",
      "Destination IP Address: 192.168.1.2 Destination IP Address Subnet 192.168.1.0/24\n",
      "Switch_2 table_add MyIngress.ipv4_lpm MyIngress.ipv4_forward 192.168.1.0/24 => 6E:D6:0F:82:A6:C7 0\n",
      "Executing P4 Add Table Command for Switch: Switch_2 : simple_switch_CLI --thrift-port 9030 < Switch_2_Command.txt\n",
      "Switch_4 table_add MyIngress.ipv4_lpm MyIngress.ipv4_forward 192.168.1.0/24 => 6A:15:96:5C:B2:AF 2\n",
      "Executing P4 Add Table Command for Switch: Switch_4 : simple_switch_CLI --thrift-port 9030 < Switch_4_Command.txt\n",
      "Switch_3 table_add MyIngress.ipv4_lpm MyIngress.ipv4_forward 192.168.1.0/24 => 52:71:45:BA:B8:81 2\n",
      "Executing P4 Add Table Command for Switch: Switch_3 : simple_switch_CLI --thrift-port 9030 < Switch_3_Command.txt\n",
      "Switch_1 table_add MyIngress.ipv4_lpm MyIngress.ipv4_forward 192.168.1.0/24 => 42:3B:6C:9A:8B:D3 1\n",
      "Executing P4 Add Table Command for Switch: Switch_1 : simple_switch_CLI --thrift-port 9030 < Switch_1_Command.txt\n"
     ]
    }
   ],
   "source": [
    "src_host, dst_host = \"Host_2\", \"Host_1\"\n",
    "add_complete_route(inst_slice, host_routes, node_interface_info, ethernet_port_mappings, src_host, dst_host, thrift_port)"
   ]
  },
  {
   "cell_type": "code",
   "execution_count": null,
   "id": "5532ae49-e006-46d3-8677-cc288f2f02bc",
   "metadata": {},
   "outputs": [],
   "source": []
  }
 ],
 "metadata": {
  "kernelspec": {
   "display_name": "Python 3 (ipykernel)",
   "language": "python",
   "name": "python3"
  },
  "language_info": {
   "codemirror_mode": {
    "name": "ipython",
    "version": 3
   },
   "file_extension": ".py",
   "mimetype": "text/x-python",
   "name": "python",
   "nbconvert_exporter": "python",
   "pygments_lexer": "ipython3",
   "version": "3.9.7"
  }
 },
 "nbformat": 4,
 "nbformat_minor": 5
}
